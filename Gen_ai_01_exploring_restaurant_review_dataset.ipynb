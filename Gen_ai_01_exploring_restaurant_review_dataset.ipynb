{
  "nbformat": 4,
  "nbformat_minor": 0,
  "metadata": {
    "colab": {
      "provenance": []
    },
    "kernelspec": {
      "name": "python3",
      "display_name": "Python 3"
    },
    "language_info": {
      "name": "python"
    }
  },
  "cells": [
    {
      "cell_type": "code",
      "source": [
        "#한글 폰트를 설치합니다.\n",
        "\n",
        "# !sudo apt-get install -y fonts-nanum\n",
        "# !sudo fc-cache -fv\n",
        "# !rm ~/.cache/matplotlib -rf"
      ],
      "metadata": {
        "id": "eM5KHvwYI5cm"
      },
      "execution_count": null,
      "outputs": []
    },
    {
      "cell_type": "code",
      "source": [
        "# URL에 있는 파일을 다운로드 받습니다.\n",
        "\n",
        "import urllib.request\n",
        "\n",
        "urllib.request.urlretrieve(\n",
        "    \"https://raw.githubusercontent.com/tykimos/tykimos.github.io/master/warehouse/dataset/tarr_train.txt\",\n",
        "    filename=\"tarr_train.txt\",\n",
        ")"
      ],
      "metadata": {
        "id": "HfQczDmzI5su"
      },
      "execution_count": null,
      "outputs": []
    },
    {
      "cell_type": "code",
      "source": [
        "# 정형데이터 분석 >> 판다스\n",
        "\n",
        "import pandas as pd\n",
        "import numpy as np\n",
        "import matplotlib.pyplot as plt"
      ],
      "metadata": {
        "id": "v9bceUQVJZab"
      },
      "execution_count": null,
      "outputs": []
    },
    {
      "cell_type": "code",
      "source": [
        "# pwd # 혹은 %pwd\n",
        "# # present working directory (folder)"
      ],
      "metadata": {
        "id": "97K3XoZ5J43a"
      },
      "execution_count": null,
      "outputs": []
    },
    {
      "cell_type": "code",
      "source": [
        "# load file\n",
        "\n",
        "train_file_path = '/content/tarr_train.txt'"
      ],
      "metadata": {
        "id": "XhEF7OtzJwL4"
      },
      "execution_count": null,
      "outputs": []
    },
    {
      "cell_type": "code",
      "source": [
        "pd.read_csv(train_file_path, sep='\\t')"
      ],
      "metadata": {
        "id": "VLpQlnl9KDQ6"
      },
      "execution_count": null,
      "outputs": []
    },
    {
      "cell_type": "code",
      "source": [
        "train_data = pd.read_csv(train_file_path, sep='\\t')\n",
        "\n",
        "train_data.head()"
      ],
      "metadata": {
        "id": "V5kdfG-TKMie"
      },
      "execution_count": null,
      "outputs": []
    },
    {
      "cell_type": "code",
      "source": [
        "train_data.shape"
      ],
      "metadata": {
        "id": "daWDD3LeKUUT"
      },
      "execution_count": null,
      "outputs": []
    },
    {
      "cell_type": "code",
      "source": [
        "len(train_data)"
      ],
      "metadata": {
        "id": "F-tcZ3UMKaH6"
      },
      "execution_count": null,
      "outputs": []
    },
    {
      "cell_type": "code",
      "source": [
        "train_data['comment'].apply(len)"
      ],
      "metadata": {
        "id": "lz1qgtoQKjgD"
      },
      "execution_count": null,
      "outputs": []
    },
    {
      "cell_type": "code",
      "source": [
        "train_data['comment_length'] = train_data['comment'].apply(len)"
      ],
      "metadata": {
        "id": "GxmbGHG9Kopo"
      },
      "execution_count": null,
      "outputs": []
    },
    {
      "cell_type": "code",
      "source": [
        "train_data.head(3)"
      ],
      "metadata": {
        "id": "DCnHSI9LK75A"
      },
      "execution_count": null,
      "outputs": []
    },
    {
      "cell_type": "code",
      "source": [
        "train_data['comment_length'].describe()"
      ],
      "metadata": {
        "id": "zGOignbUK_zJ"
      },
      "execution_count": null,
      "outputs": []
    },
    {
      "cell_type": "code",
      "source": [
        "comment_length =  train_data['comment_length']"
      ],
      "metadata": {
        "id": "xFQiPcioNcI5"
      },
      "execution_count": null,
      "outputs": []
    },
    {
      "cell_type": "code",
      "source": [
        "import matplotlib.pyplot as plt\n",
        "\n",
        "# Plotting the distribution of comment lengths\n",
        "plt.figure(figsize=(12, 6))\n",
        "plt.hist(train_data['comment_length'], bins=30, color='blue', alpha=0.7)\n",
        "plt.axvline(train_data['comment_length'].mean(), color='red', linestyle='dashed', linewidth=1, label='Average Length')\n",
        "plt.title('Distribution of Comment Lengths')\n",
        "plt.xlabel('Comment Length')\n",
        "plt.ylabel('Number of Comments')\n",
        "plt.legend()\n",
        "plt.grid(axis='y')\n",
        "plt.show()"
      ],
      "metadata": {
        "id": "tjSv3gVaPDG_"
      },
      "execution_count": null,
      "outputs": []
    },
    {
      "cell_type": "code",
      "source": [
        "train_data['label'].value_counts()"
      ],
      "metadata": {
        "id": "IdpDQhWmPEr_"
      },
      "execution_count": null,
      "outputs": []
    },
    {
      "cell_type": "code",
      "source": [
        "label_count = train_data['label'].value_counts()\n",
        "print(label_count)"
      ],
      "metadata": {
        "id": "79DAii3ZPu_G"
      },
      "execution_count": null,
      "outputs": []
    },
    {
      "cell_type": "code",
      "source": [
        "train_data['label'].value_counts(normalize=True)"
      ],
      "metadata": {
        "id": "TgBdZTzdP5Ni"
      },
      "execution_count": null,
      "outputs": []
    },
    {
      "cell_type": "code",
      "source": [
        "# Plotting distribution of comment lengths by label\n",
        "plt.figure(figsize=(12, 6))\n",
        "plt.hist(train_data[train_data['label'] == 1]['comment_length'], bins=30, color='blue', alpha=0.7, label='Positive Comments')\n",
        "plt.hist(train_data[train_data['label'] == 0]['comment_length'], bins=30, color='red', alpha=0.5, label='Negative Comments')\n",
        "plt.title('Distribution of Comment Lengths by Label')\n",
        "plt.xlabel('Comment Length')\n",
        "plt.ylabel('Number of Comments')\n",
        "plt.legend()\n",
        "plt.grid(axis='y')\n",
        "plt.show()"
      ],
      "metadata": {
        "id": "vFzI5O8uP-sP"
      },
      "execution_count": null,
      "outputs": []
    },
    {
      "cell_type": "code",
      "source": [
        "from collections import Counter\n",
        "import re\n",
        "\n",
        "def get_word_frequencies(texts):\n",
        "  words = [ ]\n",
        "  for text in texts:\n",
        "    # 구두점 제거한 후 공백기준으로 토큰화\n",
        "    words.extend(re.findall(r'\\b\\w+\\b', text))\n",
        "\n",
        "    # 단어 빈도수 계산\n",
        "  return Counter(words)"
      ],
      "metadata": {
        "id": "zTD3ufRNQJEs"
      },
      "execution_count": null,
      "outputs": []
    },
    {
      "cell_type": "code",
      "source": [
        "train_data[train_data['label']==1]['comment']"
      ],
      "metadata": {
        "id": "5A9cQ-HkQu1I"
      },
      "execution_count": null,
      "outputs": []
    },
    {
      "cell_type": "code",
      "source": [
        "positive_comments = train_data[train_data['label']==1]['comment']\n",
        "negative_comments = train_data[train_data['label']==0]['comment']\n",
        "negative_comments[:3]"
      ],
      "metadata": {
        "id": "XRp4gt0HRP8x"
      },
      "execution_count": null,
      "outputs": []
    },
    {
      "cell_type": "code",
      "source": [
        "print(get_word_frequencies(positive_comments))"
      ],
      "metadata": {
        "id": "jpyUeu62Rcjo"
      },
      "execution_count": null,
      "outputs": []
    },
    {
      "cell_type": "code",
      "source": [
        "positive_word_freq = get_word_frequencies(positive_comments)\n",
        "negative_word_freq = get_word_frequencies(negative_comments)"
      ],
      "metadata": {
        "id": "bh4R9hpVRnkg"
      },
      "execution_count": null,
      "outputs": []
    },
    {
      "cell_type": "code",
      "source": [
        "print(negative_word_freq)"
      ],
      "metadata": {
        "id": "a6SeAm0DRwQP"
      },
      "execution_count": null,
      "outputs": []
    },
    {
      "cell_type": "code",
      "source": [
        "positive_word_freq.most_common(10)"
      ],
      "metadata": {
        "id": "_w40rk7LR0Ug"
      },
      "execution_count": null,
      "outputs": []
    },
    {
      "cell_type": "code",
      "source": [
        "negative_word_freq.most_common(10)"
      ],
      "metadata": {
        "id": "u1Fp_voGR9IE"
      },
      "execution_count": null,
      "outputs": []
    },
    {
      "cell_type": "code",
      "source": [
        "top_positive_words = positive_word_freq.most_common(10)\n",
        "top_negative_words = negative_word_freq.most_common(10)"
      ],
      "metadata": {
        "id": "3oSePK3CSji6"
      },
      "execution_count": null,
      "outputs": []
    },
    {
      "cell_type": "code",
      "source": [
        "from wordcloud import WordCloud\n",
        "\n",
        "# Generate word clouds for positive and negative comments\n",
        "def generate_wordcloud(word_freq, title):\n",
        "    wc = WordCloud(width=600, height=400, background_color='white', font_path='NanumGothic.ttf').generate_from_frequencies(word_freq)\n",
        "    plt.figure(figsize=(6, 6))\n",
        "    plt.imshow(wc, interpolation='bilinear')\n",
        "    plt.title(title)\n",
        "    plt.axis('off')\n",
        "    plt.show()\n",
        "\n",
        "# Displaying word clouds\n",
        "generate_wordcloud(positive_word_freq, 'Word Cloud for Positive Comments')\n",
        "generate_wordcloud(negative_word_freq, 'Word Cloud for Negative Comments')"
      ],
      "metadata": {
        "id": "8-J_0c5oSt0h"
      },
      "execution_count": null,
      "outputs": []
    },
    {
      "cell_type": "code",
      "source": [
        "from sklearn.feature_extraction.text import CountVectorizer\n",
        "\n",
        "# 텍스트 모음(corpus) 에서 상위 n 개의 n-gram 변환하는 함수\n",
        "def get_top_ngrams(corpus, ngram_range, top_n):\n",
        "  # 초기화\n",
        "  vec = CountVectorizer(ngram_range=ngram_range).fit(corpus)\n",
        "  bag_of_words = vec.transform(corpus)\n",
        "  # 결과물 : ngram의 빈도를 나타내는 행렬\n",
        "  sum_words = bag_of_words.sum(axis=0)\n",
        "  words_freq = [(word, sum_words[0, idx]) for word, idx in vec.vocabulary_.items()]\n",
        "  # sort 는 차순 변경, sorted는 한 번 확인.\n",
        "  words_freq = sorted(words_freq, key=lambda x: x[1], reverse=True)\n",
        "  # x = (word, freq) >> tuple 2번째인 빈도수 기준\n",
        "  return words_freq[:top_n]\n"
      ],
      "metadata": {
        "id": "8fMfY_emS0gO"
      },
      "execution_count": null,
      "outputs": []
    },
    {
      "cell_type": "code",
      "source": [
        "# top bigram, top trigram\n",
        "\n",
        "top_bigram = get_top_ngrams(train_data['comment'], ngram_range=(2,2), top_n=10)\n",
        "top_trigram = get_top_ngrams(train_data['comment'], ngram_range=(3,3), top_n=10)"
      ],
      "metadata": {
        "id": "iidyko7bVceP"
      },
      "execution_count": null,
      "outputs": []
    },
    {
      "cell_type": "code",
      "source": [
        "top_bigram"
      ],
      "metadata": {
        "id": "pCG9hIBCVyXZ"
      },
      "execution_count": null,
      "outputs": []
    },
    {
      "cell_type": "code",
      "source": [
        "top_trigram"
      ],
      "metadata": {
        "id": "-ADqpw35VzoH"
      },
      "execution_count": null,
      "outputs": []
    },
    {
      "cell_type": "code",
      "source": [
        "get_top_ngrams(train_data[train_data['label']==1]['comment'],ngram_range=(2,2), top_n=10)"
      ],
      "metadata": {
        "id": "vogM-BQFV1IZ"
      },
      "execution_count": null,
      "outputs": []
    },
    {
      "cell_type": "code",
      "source": [
        "top_bigrams_positive = get_top_ngrams(train_data[train_data['label']==1]['comment'], ngram_range=(2,2), top_n=10)\n",
        "top_trigrams_positive = get_top_ngrams(train_data[train_data['label']==1]['comment'], ngram_range=(3,3), top_n=10)\n",
        "\n",
        "top_bigrams_negative = get_top_ngrams(train_data[train_data['label']==1]['comment'], ngram_range=(2,2), top_n=10)\n",
        "top_trigrams_negative = get_top_ngrams(train_data[train_data['label']==1]['comment'], ngram_range=(3,3), top_n=10)"
      ],
      "metadata": {
        "id": "nOAZ0WiLWUXb"
      },
      "execution_count": null,
      "outputs": []
    },
    {
      "cell_type": "code",
      "source": [
        "top_bigrams_positive, top_trigrams_positive"
      ],
      "metadata": {
        "id": "SadlPnb3Wqxf"
      },
      "execution_count": null,
      "outputs": []
    },
    {
      "cell_type": "code",
      "source": [
        "top_bigrams_negative, top_trigrams_negative"
      ],
      "metadata": {
        "id": "bZgtGFw1Wtrz"
      },
      "execution_count": null,
      "outputs": []
    },
    {
      "cell_type": "code",
      "source": [
        "keywords = ['서비스', '가격', '맛', '분위기', '직원']\n",
        "\n",
        "keyword_counts = {keyword: train_data['comment'].str.count(keyword).sum()  for keyword in keywords}\n",
        "keyword_counts"
      ],
      "metadata": {
        "id": "rmkGLK6HWyvO"
      },
      "execution_count": null,
      "outputs": []
    },
    {
      "cell_type": "code",
      "source": [
        "{keyword: train_data[train_data['label']==1]['comment'].str.count(keyword).sum()  for keyword in keywords}\n",
        "keyword_counts"
      ],
      "metadata": {
        "id": "B87iQWI9XgNK"
      },
      "execution_count": null,
      "outputs": []
    },
    {
      "cell_type": "code",
      "source": [
        "positive_keyword_counts = {keyword: train_data[train_data['label']==1]['comment'].str.count(keyword).sum()  for keyword in keywords}\n",
        "negative_keyword_counts = {keyword: train_data[train_data['label']==0]['comment'].str.count(keyword).sum()  for keyword in keywords}"
      ],
      "metadata": {
        "id": "857AgDUsX3Gd"
      },
      "execution_count": null,
      "outputs": []
    },
    {
      "cell_type": "code",
      "source": [
        "positive_keyword_counts,negative_keyword_counts"
      ],
      "metadata": {
        "id": "hMkv-oqHYB80"
      },
      "execution_count": null,
      "outputs": []
    },
    {
      "cell_type": "code",
      "source": [
        "import seaborn as sns\n",
        "\n",
        "# Visualizing keyword frequency for positive and negative labels\n",
        "\n",
        "# Plotting\n",
        "fig, ax = plt.subplots(2, 1, figsize=(12, 10))\n",
        "\n",
        "sns.set(font=\"NanumGothic\", rc={\"axes.unicode_minus\":False}, style='white')\n",
        "\n",
        "# Positive reviews\n",
        "sns.barplot(x=list(positive_keyword_counts.keys()), y=list(positive_keyword_counts.values()), ax=ax[0], palette='Blues_d')\n",
        "ax[0].set_title(\"Keyword Frequency in Positive Reviews\")\n",
        "ax[0].set_ylabel(\"Frequency\")\n",
        "\n",
        "# Negative reviews\n",
        "sns.barplot(x=list(negative_keyword_counts.keys()), y=list(negative_keyword_counts.values()), ax=ax[1], palette='Reds_d')\n",
        "ax[1].set_title(\"Keyword Frequency in Negative Reviews\")\n",
        "ax[1].set_ylabel(\"Frequency\")\n",
        "\n",
        "plt.tight_layout()\n",
        "plt.show()"
      ],
      "metadata": {
        "id": "sTkJw-YyYFjD"
      },
      "execution_count": null,
      "outputs": []
    },
    {
      "cell_type": "code",
      "source": [
        "from sklearn.feature_extraction.text import TfidfVectorizer\n",
        "import numpy as np"
      ],
      "metadata": {
        "id": "heyGG_zBYRVl"
      },
      "execution_count": null,
      "outputs": []
    },
    {
      "cell_type": "code",
      "source": [
        "# 텍스트 코퍼스에서 tf-idf 점수가 가장 높은 상위 top_n 개의 단어를 반환하는 함수 생성\n",
        "\n",
        "def get_top_tfidf_features(corpus, top_n):\n",
        "    # tfidf 행렬 생성\n",
        "    tfidf_vec = TfidfVectorizer().fit(corpus)\n",
        "    transformed = tfidf_vec.transform(corpus)\n",
        "    mean_tfidf = transformed.mean(axis=0).tolist()[0]\n",
        "    # transformed 행렬의 각 열의 평균 tfidf 값 계산 >> 리스트로 변환\n",
        "    sorted_tfidf_index = np.argsort(mean_tfidf)[-top_n:] # 상위 top_n\n",
        "\n",
        "    sorted_tfidf_values = [mean_tfidf[i] for i in sorted_tfidf_index]\n",
        "    # 상위 top_n의 단어에 해당하는 평균 tfidf 값을 리스트로 담기\n",
        "\n",
        "    sorted_tfidf_features = [tfidf_vec.get_feature_names_out()[i] for i in sorted_tfidf_index]\n",
        "    # 상위 top_n개의 단어 자체를 담은 리스트\n",
        "    return list(zip(sorted_tfidf_features, sorted_tfidf_values))\n",
        "    # 상위 top_n 개의 단어와, 그에 대응하는 tfidf 값 >> 튜플 형태 결합 >> 리스트로 변환\n",
        "\n"
      ],
      "metadata": {
        "id": "cHYZXLbfcV6j"
      },
      "execution_count": null,
      "outputs": []
    },
    {
      "cell_type": "code",
      "source": [
        "get_top_tfidf_features(train_data['comment'], 10)"
      ],
      "metadata": {
        "id": "pve0SwE-eUkX"
      },
      "execution_count": null,
      "outputs": []
    },
    {
      "cell_type": "code",
      "source": [
        "top_tfidf_features = get_top_tfidf_features(train_data['comment'], 10)\n",
        "top_tfidf_features"
      ],
      "metadata": {
        "id": "TqxtKfUSeUgG"
      },
      "execution_count": null,
      "outputs": []
    },
    {
      "cell_type": "code",
      "source": [
        "top_tfidf_positive = get_top_tfidf_features(train_data[train_data['label']==1]['comment'], 10)\n",
        "top_tfidf_positive"
      ],
      "metadata": {
        "id": "ibDyEVCSeUb_"
      },
      "execution_count": null,
      "outputs": []
    },
    {
      "cell_type": "code",
      "source": [
        "corpus = [\n",
        "    \"I love machine learning and artificial intelligence\",\n",
        "    \"Machine learning is fascinating\",\n",
        "    \"I love learning new things about Gen-AI and ML\"\n",
        "]"
      ],
      "metadata": {
        "id": "2SW5GiomeUXk"
      },
      "execution_count": null,
      "outputs": []
    },
    {
      "cell_type": "code",
      "source": [
        "get_top_tfidf_features(corpus, 5)"
      ],
      "metadata": {
        "id": "BCxQBkDJgTgO"
      },
      "execution_count": null,
      "outputs": []
    },
    {
      "cell_type": "code",
      "source": [],
      "metadata": {
        "id": "1M9Jd4mBgTZ5"
      },
      "execution_count": null,
      "outputs": []
    },
    {
      "cell_type": "code",
      "source": [],
      "metadata": {
        "id": "2pyQgVVsgTWC"
      },
      "execution_count": null,
      "outputs": []
    },
    {
      "cell_type": "markdown",
      "source": [
        "## 추가 학습\n"
      ],
      "metadata": {
        "id": "beg-E3vWdmvU"
      }
    },
    {
      "cell_type": "code",
      "source": [
        "# 그래서 준비했습니다.\n",
        "# argsort()\n",
        "\n",
        "import numpy as np\n",
        "\n",
        "arr = np.array([10,3,5,2])\n",
        "# [2,3,5,10]\n",
        "\n",
        "np.argsort(arr)"
      ],
      "metadata": {
        "id": "9LnemF3qdoLd"
      },
      "execution_count": null,
      "outputs": []
    },
    {
      "cell_type": "code",
      "source": [
        "arr.sort()"
      ],
      "metadata": {
        "id": "5pqVj-sTdwXG"
      },
      "execution_count": null,
      "outputs": []
    },
    {
      "cell_type": "code",
      "source": [
        "arr"
      ],
      "metadata": {
        "id": "Bmx68CnNdzHE"
      },
      "execution_count": null,
      "outputs": []
    },
    {
      "cell_type": "code",
      "source": [],
      "metadata": {
        "id": "CYdHvgNieA1J"
      },
      "execution_count": null,
      "outputs": []
    }
  ]
}